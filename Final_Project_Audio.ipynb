{
  "nbformat": 4,
  "nbformat_minor": 0,
  "metadata": {
    "colab": {
      "provenance": []
    },
    "kernelspec": {
      "name": "python3",
      "display_name": "Python 3"
    },
    "language_info": {
      "name": "python"
    }
  },
  "cells": [
    {
      "cell_type": "code",
      "execution_count": 1,
      "metadata": {
        "colab": {
          "base_uri": "https://localhost:8080/"
        },
        "id": "0sWeKKZiGOnQ",
        "outputId": "aea9ff29-4969-4400-c7bf-abf2eaaad7b9"
      },
      "outputs": [
        {
          "output_type": "stream",
          "name": "stdout",
          "text": [
            "Collecting gTTS\n",
            "  Downloading gTTS-2.3.2-py3-none-any.whl (28 kB)\n",
            "Requirement already satisfied: requests<3,>=2.27 in /usr/local/lib/python3.10/dist-packages (from gTTS) (2.31.0)\n",
            "Requirement already satisfied: click<8.2,>=7.1 in /usr/local/lib/python3.10/dist-packages (from gTTS) (8.1.7)\n",
            "Requirement already satisfied: charset-normalizer<4,>=2 in /usr/local/lib/python3.10/dist-packages (from requests<3,>=2.27->gTTS) (3.2.0)\n",
            "Requirement already satisfied: idna<4,>=2.5 in /usr/local/lib/python3.10/dist-packages (from requests<3,>=2.27->gTTS) (3.4)\n",
            "Requirement already satisfied: urllib3<3,>=1.21.1 in /usr/local/lib/python3.10/dist-packages (from requests<3,>=2.27->gTTS) (2.0.4)\n",
            "Requirement already satisfied: certifi>=2017.4.17 in /usr/local/lib/python3.10/dist-packages (from requests<3,>=2.27->gTTS) (2023.7.22)\n",
            "Installing collected packages: gTTS\n",
            "Successfully installed gTTS-2.3.2\n"
          ]
        }
      ],
      "source": [
        "pip install gTTS"
      ]
    },
    {
      "cell_type": "code",
      "source": [
        "from gtts import gTTS\n",
        "\n",
        "# Take text input from the user\n",
        "text = input(\"\"\"\n",
        "Input the text here \"\"\")\n",
        "\n",
        "# Convert text to speech\n",
        "tts = gTTS(text=text, lang='en')\n",
        "filename = \"fable1.mp3\"\n",
        "tts.save(filename)\n",
        "\n",
        "print(f\"Audio has been saved as {filename}.\")\n"
      ],
      "metadata": {
        "colab": {
          "base_uri": "https://localhost:8080/"
        },
        "id": "Q0VK1f1Gy5_G",
        "outputId": "4dcbc86a-204f-4f75-e418-bef9ec3be5e6"
      },
      "execution_count": 2,
      "outputs": [
        {
          "output_type": "stream",
          "name": "stdout",
          "text": [
            "\n",
            "A cock was once strutting up and down the farmyard\n",
            "among the hens when suddenly he espied something shinning amid the straw. ‘Ho! ho!’ quoth he, ‘that’s for me,’ and\n",
            "soon rooted it out from beneath the straw. What did it turn\n",
            "out to be but a Pearl that by some chance had been lost in\n",
            "the yard? ‘You may be a treasure,’ quoth Master Cock, ‘to\n",
            "men that prize you, but for me I would rather have a single\n",
            "barley-corn than a peck of pearls.’\n",
            "Precious things are for those that can prize them.A cock was once strutting up and down the farmyard among the hens when suddenly he espied something shinning amid the straw. ‘Ho! ho!’ quoth he, ‘that’s for me,’ and soon rooted it out from beneath the straw. What did it turn out to be but a Pearl that by some chance had been lost in the yard? ‘You may be a treasure,’ quoth Master Cock, ‘to men that prize you, but for me I would rather have a single barley-corn than a peck of pearls.’ Precious things are for those that can prize them.\n",
            "Audio has been saved as fable1.mp3.\n"
          ]
        }
      ]
    },
    {
      "cell_type": "code",
      "source": [
        "text = input(\"\"\"\n",
        "Input the text here \"\"\")\n",
        "\n",
        "# Convert text to speech\n",
        "tts = gTTS(text=text, lang='en')\n",
        "filename = \"fable2.mp3\"\n",
        "tts.save(filename)\n",
        "\n",
        "print(f\"Audio has been saved as {filename}.\")"
      ],
      "metadata": {
        "colab": {
          "base_uri": "https://localhost:8080/"
        },
        "id": "_5kdW2XTlbwf",
        "outputId": "63d92b53-8d30-4c8c-f8e8-ae0002565098"
      },
      "execution_count": 3,
      "outputs": [
        {
          "output_type": "stream",
          "name": "stdout",
          "text": [
            "\n",
            "Once upon a time a Wolf was lapping at a spring on a hillside, when, looking up, what should he see but a Lamb just\n",
            "beginning to drink a little lower down. ‘There’s my supper,’\n",
            "thought he, ‘if only I can find some excuse to seize it.’ Then\n",
            "he called out to the Lamb, ‘How dare you muddle the water\n",
            "from which I am drinking?’\n",
            "‘Nay, master, nay,’ said Lambikin; ‘if the water be muddy\n",
            "up there, I cannot be the cause of it, for it runs down from\n",
            "you to me.’\n",
            "‘Well, then,’ said the Wolf, ‘why did you call me bad\n",
            "names this time last year?’\n",
            "‘That cannot be,’ said the Lamb; ‘I am only six months\n",
            "old.’\n",
            "‘I don’t care,’ snarled the Wolf; ‘if it was not you it was\n",
            "your father;’ and with that he rushed upon the poor little\n",
            "Lamb and ate her all up. But before she died she gasped out\n",
            ".’Any excuse will serve a tyrant.Once upon a time a Wolf was lapping at a spring on a hillside, when, looking up, what should he see but a Lamb just beginning to drink a little lower down. ‘There’s my supper,’ thought he, ‘if only I can find some excuse to seize it.’ Then he called out to the Lamb, ‘How dare you muddle the water from which I am drinking?’ ‘Nay, master, nay,’ said Lambikin; ‘if the water be muddy up there, I cannot be the cause of it, for it runs down from you to me.’ ‘Well, then,’ said the Wolf, ‘why did you call me bad names this time last year?’ ‘That cannot be,’ said the Lamb; ‘I am only six months old.’ ‘I don’t care,’ snarled the Wolf; ‘if it was not you it was your father;’ and with that he rushed upon the poor little Lamb and ate her all up. But before she died she gasped out .’Any excuse will serve a tyrant.\n",
            "Audio has been saved as fable2.mp3.\n"
          ]
        }
      ]
    },
    {
      "cell_type": "code",
      "source": [
        "text = input(\"\"\"\n",
        "Input the text here \"\"\")\n",
        "\n",
        "# Convert text to speech\n",
        "tts = gTTS(text=text, lang='en')\n",
        "filename = \"fable3.mp3\"\n",
        "tts.save(filename)\n",
        "\n",
        "print(f\"Audio has been saved as {filename}.\")"
      ],
      "metadata": {
        "colab": {
          "base_uri": "https://localhost:8080/"
        },
        "id": "RnL7PHl_loIK",
        "outputId": "86ada20d-61b5-4eba-e409-5c57ebf92d58"
      },
      "execution_count": 4,
      "outputs": [
        {
          "output_type": "stream",
          "name": "stdout",
          "text": [
            "\n",
            "Input the text hereIt happened that a Dog had got a piece of meat and was carrying it home in his mouth to eat it in peace. Now on his way home he had to cross a plank lying across a running brook. As he crossed, he looked down and saw his own shadow reflected in the water beneath. Thinking it was another dog with another piece of meat, he made up his mind to have that also. So he made a snap at the shadow in the water, but as he opened his mouth the piece of meat fell out, dropped into the water and was never seen more. Beware lest you lose the substance by grasping at the shadow.\n",
            "Audio has been saved as fable3.mp3.\n"
          ]
        }
      ]
    },
    {
      "cell_type": "code",
      "source": [
        "text = input(\"\"\"\n",
        "Input the text here \"\"\")\n",
        "\n",
        "# Convert text to speech\n",
        "tts = gTTS(text=text, lang='en')\n",
        "filename = \"fable4.mp3\"\n",
        "tts.save(filename)\n",
        "\n",
        "print(f\"Audio has been saved as {filename}.\")"
      ],
      "metadata": {
        "colab": {
          "base_uri": "https://localhost:8080/"
        },
        "id": "5mPjtcfxlwmD",
        "outputId": "ebf75d02-84fa-431c-cf9d-e9635a4c39bb"
      },
      "execution_count": 6,
      "outputs": [
        {
          "output_type": "stream",
          "name": "stdout",
          "text": [
            "\n",
            "Input the text here The Lion went once a-hunting along with the Fox, the Jackal, and the Wolf. They hunted and they hunted till at last they surprised a Stag, and soon took its life. Then came the question how the spoil should be divided. ‘Quarter me this Stag,’ roared the Lion; so the other animals skinned it and cut it into four parts. Then the Lion took his stand in front of the carcass and pronounced judgment: The first quarter is for me in my capacity as King of Beasts; the second is mine as arbiter; another share comes to me for my part in the chase; and as for the fourth quarter, well, as for that, I should like to see which of you will dare to lay a paw upon it.’ ‘Humph,’ grumbled the Fox as he walked away with his tail between his legs; but he spoke in a low growl .’You may share the labours of the great, but you will not share the spoil.\n",
            "Audio has been saved as fable4.mp3.\n"
          ]
        }
      ]
    },
    {
      "cell_type": "code",
      "source": [
        "text = input(\"\"\"\n",
        "Input the text here \"\"\")\n",
        "\n",
        "# Convert text to speech\n",
        "tts = gTTS(text=text, lang='en')\n",
        "filename = \"fable5.mp3\"\n",
        "tts.save(filename)\n",
        "\n",
        "print(f\"Audio has been saved as {filename}.\")"
      ],
      "metadata": {
        "colab": {
          "base_uri": "https://localhost:8080/"
        },
        "id": "aGkgld6Xl4c8",
        "outputId": "5ebe93ee-108d-4351-a509-0bc4dc51e7ba"
      },
      "execution_count": 7,
      "outputs": [
        {
          "output_type": "stream",
          "name": "stdout",
          "text": [
            "\n",
            "Input the text here A Wolf had been gorging on an animal he had killed, when suddenly a small bone in the meat stuck in his throat and he could not swallow it. He soon felt terrible pain in his throat, and ran up and down groaning and groaning and seeking for something to relieve the pain. He tried to induce every one he met to remove the bone. ‘I would give anything,’ said he, ‘if you would take it out.’ At last the Crane agreed to try, and told the Wolf to lie on his side and open his jaws as wide as he could. Then the Crane put its long neck down the Wolf’s throat, and with its beak loosened the bone, till at last it got it out. ‘Will you kindly give me the reward you promised?’ said the Crane. The Wolf grinned and showed his teeth and said: ‘Be content. You have put your head inside a Wolf’s mouth and taken it out again in safety; that ought to be reward enough for you.’ Gratitude and greed go not together.\n",
            "Audio has been saved as fable5.mp3.\n"
          ]
        }
      ]
    },
    {
      "cell_type": "code",
      "source": [
        "pip install pydub"
      ],
      "metadata": {
        "colab": {
          "base_uri": "https://localhost:8080/"
        },
        "id": "g7bOb_ogmNHW",
        "outputId": "e2b0090a-57e9-4887-d1fb-0cbcf9210fe8"
      },
      "execution_count": 9,
      "outputs": [
        {
          "output_type": "stream",
          "name": "stdout",
          "text": [
            "Collecting pydub\n",
            "  Downloading pydub-0.25.1-py2.py3-none-any.whl (32 kB)\n",
            "Installing collected packages: pydub\n",
            "Successfully installed pydub-0.25.1\n"
          ]
        }
      ]
    },
    {
      "cell_type": "code",
      "source": [
        "from pydub import AudioSegment\n",
        "\n",
        "def combine_audio_files(file_list, output_filename):\n",
        "    combined = AudioSegment.empty()\n",
        "\n",
        "    for file in file_list:\n",
        "        sound = AudioSegment.from_mp3(file)\n",
        "        combined += sound\n",
        "\n",
        "    combined.export(output_filename, format=\"mp3\")\n",
        "\n",
        "# Example usage\n",
        "file_list = [\"fable1.mp3\", \"fable2.mp3\", \"fable3.mp3\", \"fable4.mp3\", \"fable5.mp3\"]  # Add your audio files in the order you want them combined\n",
        "combine_audio_files(file_list, \"fable0.mp3\")\n"
      ],
      "metadata": {
        "id": "e-WAfkEY1WU8"
      },
      "execution_count": 10,
      "outputs": []
    },
    {
      "cell_type": "code",
      "source": [],
      "metadata": {
        "id": "Is0UpNbZ1o8I"
      },
      "execution_count": null,
      "outputs": []
    }
  ]
}